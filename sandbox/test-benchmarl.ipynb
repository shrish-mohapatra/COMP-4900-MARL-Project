{
 "cells": [
  {
   "cell_type": "code",
   "execution_count": 1,
   "metadata": {},
   "outputs": [
    {
     "data": {
      "text/plain": [
       "True"
      ]
     },
     "execution_count": 1,
     "metadata": {},
     "output_type": "execute_result"
    }
   ],
   "source": [
    "import torch\n",
    "torch.cuda.is_available()"
   ]
  },
  {
   "cell_type": "code",
   "execution_count": 1,
   "metadata": {},
   "outputs": [],
   "source": [
    "from benchmarl.algorithms import MappoConfig\n",
    "from benchmarl.environments import VmasTask\n",
    "from benchmarl.experiment import Experiment, ExperimentConfig\n",
    "from benchmarl.models.mlp import MlpConfig\n",
    "\n",
    "from ComplexVmasTask import ComplexVmasTask"
   ]
  },
  {
   "cell_type": "code",
   "execution_count": 3,
   "metadata": {},
   "outputs": [
    {
     "name": "stdout",
     "output_type": "stream",
     "text": [
      "W&B enabled.\n"
     ]
    }
   ],
   "source": [
    "!wandb enabled"
   ]
  },
  {
   "cell_type": "code",
   "execution_count": null,
   "metadata": {},
   "outputs": [
    {
     "name": "stderr",
     "output_type": "stream",
     "text": [
      "c:\\Users\\Josh\\Documents\\yr4\\s2\\COMP4900_MultiAgent\\COMP-4900-MARL-Project\\venv\\Lib\\site-packages\\gym\\utils\\passive_env_checker.py:233: DeprecationWarning: `np.bool8` is a deprecated alias for `np.bool_`.  (Deprecated NumPy 1.24)\n",
      "  if not isinstance(terminated, (bool, np.bool8)):\n"
     ]
    }
   ],
   "source": [
    "import gym\n",
    "env = gym.make(\"CartPole-v1\")\n",
    "observation, info = env.reset(seed=42)\n",
    "\n",
    "for _ in range(1000):\n",
    "    action = env.action_space.sample()\n",
    "    observation, reward, terminated, truncated, info = env.step(action)\n",
    "\n",
    "    if terminated or truncated:\n",
    "        observation, info = env.reset()\n",
    "env.close()"
   ]
  },
  {
   "cell_type": "code",
   "execution_count": 4,
   "metadata": {},
   "outputs": [
    {
     "name": "stdout",
     "output_type": "stream",
     "text": [
      "ComplexVmasTask.SIMPLE_SPEAKER_LISTENER: (config={'max_steps': 100})\n",
      "DEBUGGING device=cpu\n",
      "DEBUGGING device=cpu\n"
     ]
    }
   ],
   "source": [
    "# Loads from \"benchmarl/conf/experiment/base_experiment.yaml\"\n",
    "experiment_config = ExperimentConfig.get_from_yaml()\n",
    "\n",
    "# Loads from \"benchmarl/conf/task/vmas/balance.yaml\"\n",
    "# task = VmasTask.SIMPLE_SPEAKER_LISTENER.get_from_yaml()\n",
    "task = ComplexVmasTask.SIMPLE_SPEAKER_LISTENER.get_from_yaml()\n",
    "print(task)\n",
    "\n",
    "# Loads from \"benchmarl/conf/algorithm/mappo.yaml\"\n",
    "algorithm_config = MappoConfig.get_from_yaml()\n",
    "\n",
    "# Loads from \"benchmarl/conf/model/layers/mlp.yaml\"\n",
    "model_config = MlpConfig.get_from_yaml()\n",
    "critic_model_config = MlpConfig.get_from_yaml()\n",
    "\n",
    "# THIS IS VERY IMPORTANT !!!!!!!!!!!!!!!!!!!!!!!!!!!!!\n",
    "experiment_config.on_policy_collected_frames_per_batch = 6000\n",
    "experiment_config.evaluation = True\n",
    "experiment_config.render = True\n",
    "# experiment_config.evaluation_interval = 12_000\n",
    "experiment_config.evaluation_interval = 6_000\n",
    "experiment_config.evaluation_episodes = 10\n",
    "\n",
    "experiment_config.max_n_iters = 5\n",
    "experiment_config.loggers = [\"csv\"]\n",
    "experiment_config.create_json = True\n",
    "experiment_config.save_folder = \"experiments\"\n",
    "# experiment_config.train_device = \"cuda\"\n",
    "# experiment_config.sampling_device = \"cuda\"\n",
    "\n",
    "# Create the experiment\n",
    "experiment = Experiment(\n",
    "    task=task,\n",
    "    algorithm_config=algorithm_config,\n",
    "    model_config=model_config,\n",
    "    critic_model_config=critic_model_config,\n",
    "    seed=0,\n",
    "    config=experiment_config,\n",
    ")"
   ]
  },
  {
   "cell_type": "code",
   "execution_count": 5,
   "metadata": {},
   "outputs": [
    {
     "name": "stderr",
     "output_type": "stream",
     "text": [
      "mean return = -216.00315856933594: 100%|██████████| 5/5 [04:12<00:00, 50.51s/it]\n"
     ]
    }
   ],
   "source": [
    "experiment.run()"
   ]
  }
 ],
 "metadata": {
  "kernelspec": {
   "display_name": "venv",
   "language": "python",
   "name": "python3"
  },
  "language_info": {
   "codemirror_mode": {
    "name": "ipython",
    "version": 3
   },
   "file_extension": ".py",
   "mimetype": "text/x-python",
   "name": "python",
   "nbconvert_exporter": "python",
   "pygments_lexer": "ipython3",
   "version": "0.0.0"
  }
 },
 "nbformat": 4,
 "nbformat_minor": 2
}
