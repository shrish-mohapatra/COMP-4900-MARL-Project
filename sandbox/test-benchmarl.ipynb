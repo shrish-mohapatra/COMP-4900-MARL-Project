{
 "cells": [
  {
   "cell_type": "code",
   "execution_count": 1,
   "metadata": {},
   "outputs": [],
   "source": [
    "from benchmarl.algorithms import MappoConfig\n",
    "from benchmarl.environments import VmasTask\n",
    "from benchmarl.experiment import Experiment, ExperimentConfig\n",
    "from benchmarl.models.mlp import MlpConfig\n",
    "\n",
    "from ComplexVmasTask import ComplexVmasTask"
   ]
  },
  {
   "cell_type": "code",
   "execution_count": 2,
   "metadata": {},
   "outputs": [
    {
     "name": "stderr",
     "output_type": "stream",
     "text": [
      "wandb: Currently logged in as: shrish-mohapatra (poporl). Use `wandb login --relogin` to force relogin\n"
     ]
    }
   ],
   "source": [
    "!wandb login"
   ]
  },
  {
   "cell_type": "code",
   "execution_count": 3,
   "metadata": {},
   "outputs": [
    {
     "name": "stdout",
     "output_type": "stream",
     "text": [
      "d:\\Work\\Carleton\\Winter 2024\\COMP 4900\\project\\venv\\lib\\site-packages\\benchmarl\\conf\\task\\vmas\\simple_speaker_listener.yaml\n",
      "ComplexVmasTask.SIMPLE_SPEAKER_LISTENER: (config={'max_steps': 100})\n",
      "DEBUGGING cpu\n",
      "DEBUGGING reached env_make_world\n",
      "DEBUGGING cpu\n",
      "DEBUGGING reached env_make_world\n"
     ]
    },
    {
     "name": "stderr",
     "output_type": "stream",
     "text": [
      "Failed to detect the name of this notebook, you can set it manually with the WANDB_NOTEBOOK_NAME environment variable to enable code saving.\n",
      "\u001b[34m\u001b[1mwandb\u001b[0m: Currently logged in as: \u001b[33mshrish-mohapatra\u001b[0m (\u001b[33mpoporl\u001b[0m). Use \u001b[1m`wandb login --relogin`\u001b[0m to force relogin\n"
     ]
    },
    {
     "data": {
      "text/html": [
       "Tracking run with wandb version 0.16.3"
      ],
      "text/plain": [
       "<IPython.core.display.HTML object>"
      ]
     },
     "metadata": {},
     "output_type": "display_data"
    },
    {
     "data": {
      "text/html": [
       "Run data is saved locally in <code>experiments\\mappo_simple_speaker_listener_mlp__bc12c35b_24_02_23-15_26_01\\wandb\\run-20240223_152603-mappo_simple_speaker_listener_mlp__bc12c35b_24_02_23-15_26_01</code>"
      ],
      "text/plain": [
       "<IPython.core.display.HTML object>"
      ]
     },
     "metadata": {},
     "output_type": "display_data"
    },
    {
     "data": {
      "text/html": [
       "Syncing run <strong><a href='https://wandb.ai/poporl/benchmarl/runs/mappo_simple_speaker_listener_mlp__bc12c35b_24_02_23-15_26_01' target=\"_blank\">mappo_simple_speaker_listener_mlp__bc12c35b_24_02_23-15_26_01</a></strong> to <a href='https://wandb.ai/poporl/benchmarl' target=\"_blank\">Weights & Biases</a> (<a href='https://wandb.me/run' target=\"_blank\">docs</a>)<br/>"
      ],
      "text/plain": [
       "<IPython.core.display.HTML object>"
      ]
     },
     "metadata": {},
     "output_type": "display_data"
    },
    {
     "data": {
      "text/html": [
       " View project at <a href='https://wandb.ai/poporl/benchmarl' target=\"_blank\">https://wandb.ai/poporl/benchmarl</a>"
      ],
      "text/plain": [
       "<IPython.core.display.HTML object>"
      ]
     },
     "metadata": {},
     "output_type": "display_data"
    },
    {
     "data": {
      "text/html": [
       " View run at <a href='https://wandb.ai/poporl/benchmarl/runs/mappo_simple_speaker_listener_mlp__bc12c35b_24_02_23-15_26_01' target=\"_blank\">https://wandb.ai/poporl/benchmarl/runs/mappo_simple_speaker_listener_mlp__bc12c35b_24_02_23-15_26_01</a>"
      ],
      "text/plain": [
       "<IPython.core.display.HTML object>"
      ]
     },
     "metadata": {},
     "output_type": "display_data"
    }
   ],
   "source": [
    "# Loads from \"benchmarl/conf/experiment/base_experiment.yaml\"\n",
    "experiment_config = ExperimentConfig.get_from_yaml()\n",
    "\n",
    "# Loads from \"benchmarl/conf/task/vmas/balance.yaml\"\n",
    "# task = VmasTask.SIMPLE_SPEAKER_LISTENER.get_from_yaml()\n",
    "task = ComplexVmasTask.SIMPLE_SPEAKER_LISTENER.get_from_yaml()\n",
    "print(task)\n",
    "\n",
    "# Loads from \"benchmarl/conf/algorithm/mappo.yaml\"\n",
    "algorithm_config = MappoConfig.get_from_yaml()\n",
    "\n",
    "# Loads from \"benchmarl/conf/model/layers/mlp.yaml\"\n",
    "model_config = MlpConfig.get_from_yaml()\n",
    "critic_model_config = MlpConfig.get_from_yaml()\n",
    "\n",
    "# THIS IS VERY IMPORTANT !!!!!!!!!!!!!!!!!!!!!!!!!!!!!\n",
    "experiment_config.on_policy_collected_frames_per_batch = 6000\n",
    "experiment_config.evaluation = True\n",
    "experiment_config.render = True\n",
    "# experiment_config.evaluation_interval = 12_000\n",
    "experiment_config.evaluation_interval = 6_000\n",
    "experiment_config.evaluation_episodes = 10\n",
    "\n",
    "experiment_config.max_n_iters = 1\n",
    "experiment_config.loggers = [\"wandb\"]\n",
    "experiment_config.create_json = True\n",
    "experiment_config.save_folder = \"experiments\"\n",
    "\n",
    "# Create the experiment\n",
    "experiment = Experiment(\n",
    "    task=task,\n",
    "    algorithm_config=algorithm_config,\n",
    "    model_config=model_config,\n",
    "    critic_model_config=critic_model_config,\n",
    "    seed=0,\n",
    "    config=experiment_config,\n",
    ")"
   ]
  },
  {
   "cell_type": "code",
   "execution_count": 4,
   "metadata": {},
   "outputs": [
    {
     "name": "stderr",
     "output_type": "stream",
     "text": [
      "  0%|          | 0/1 [00:00<?, ?it/s]d:\\Work\\Carleton\\Winter 2024\\COMP 4900\\project\\venv\\lib\\site-packages\\pyglet\\image\\codecs\\wic.py:406: UserWarning: [WinError -2147417850] Cannot change thread mode after it is set\n",
      "  warnings.warn(str(err))\n",
      "mean return = -198.93772888183594: 100%|██████████| 1/1 [00:44<00:00, 44.65s/it]"
     ]
    },
    {
     "data": {
      "text/html": [
       "<style>\n",
       "    table.wandb td:nth-child(1) { padding: 0 10px; text-align: left ; width: auto;} td:nth-child(2) {text-align: left ; width: 100%}\n",
       "    .wandb-row { display: flex; flex-direction: row; flex-wrap: wrap; justify-content: flex-start; width: 100% }\n",
       "    .wandb-col { display: flex; flex-direction: column; flex-basis: 100%; flex: 1; padding: 10px; }\n",
       "    </style>\n",
       "<div class=\"wandb-row\"><div class=\"wandb-col\"><h3>Run history:</h3><br/><table class=\"wandb\"><tr><td>collection/listener/reward/episode_reward_max</td><td>▁</td></tr><tr><td>collection/listener/reward/episode_reward_mean</td><td>▁</td></tr><tr><td>collection/listener/reward/episode_reward_min</td><td>▁</td></tr><tr><td>collection/listener/reward/reward_max</td><td>▁</td></tr><tr><td>collection/listener/reward/reward_mean</td><td>▁</td></tr><tr><td>collection/listener/reward/reward_min</td><td>▁</td></tr><tr><td>collection/reward/episode_reward_max</td><td>▁</td></tr><tr><td>collection/reward/episode_reward_mean</td><td>▁</td></tr><tr><td>collection/reward/episode_reward_min</td><td>▁</td></tr><tr><td>collection/speaker/reward/episode_reward_max</td><td>▁</td></tr><tr><td>collection/speaker/reward/episode_reward_mean</td><td>▁</td></tr><tr><td>collection/speaker/reward/episode_reward_min</td><td>▁</td></tr><tr><td>collection/speaker/reward/reward_max</td><td>▁</td></tr><tr><td>collection/speaker/reward/reward_mean</td><td>▁</td></tr><tr><td>collection/speaker/reward/reward_min</td><td>▁</td></tr><tr><td>counters/current_frames</td><td>▁</td></tr><tr><td>counters/iter</td><td>▁</td></tr><tr><td>counters/total_frames</td><td>▁</td></tr><tr><td>eval/listener/reward/episode_reward_max</td><td>▁</td></tr><tr><td>eval/listener/reward/episode_reward_mean</td><td>▁</td></tr><tr><td>eval/listener/reward/episode_reward_min</td><td>▁</td></tr><tr><td>eval/reward/episode_len_mean</td><td>▁</td></tr><tr><td>eval/reward/episode_reward_max</td><td>▁</td></tr><tr><td>eval/reward/episode_reward_mean</td><td>▁</td></tr><tr><td>eval/reward/episode_reward_min</td><td>▁</td></tr><tr><td>eval/speaker/reward/episode_reward_max</td><td>▁</td></tr><tr><td>eval/speaker/reward/episode_reward_mean</td><td>▁</td></tr><tr><td>eval/speaker/reward/episode_reward_min</td><td>▁</td></tr><tr><td>timers/collection_time</td><td>▁</td></tr><tr><td>timers/evaluation_time</td><td>▁</td></tr><tr><td>timers/iteration_time</td><td>▁</td></tr><tr><td>timers/total_time</td><td>▁</td></tr><tr><td>timers/training_time</td><td>▁</td></tr><tr><td>train/listener/ESS</td><td>▁</td></tr><tr><td>train/listener/entropy</td><td>▁</td></tr><tr><td>train/listener/grad_norm_loss_critic</td><td>▁</td></tr><tr><td>train/listener/grad_norm_loss_objective</td><td>▁</td></tr><tr><td>train/listener/loss_critic</td><td>▁</td></tr><tr><td>train/listener/loss_entropy</td><td>▁</td></tr><tr><td>train/listener/loss_objective</td><td>▁</td></tr><tr><td>train/speaker/ESS</td><td>▁</td></tr><tr><td>train/speaker/entropy</td><td>▁</td></tr><tr><td>train/speaker/grad_norm_loss_critic</td><td>▁</td></tr><tr><td>train/speaker/grad_norm_loss_objective</td><td>▁</td></tr><tr><td>train/speaker/loss_critic</td><td>▁</td></tr><tr><td>train/speaker/loss_entropy</td><td>▁</td></tr><tr><td>train/speaker/loss_objective</td><td>▁</td></tr></table><br/></div><div class=\"wandb-col\"><h3>Run summary:</h3><br/><table class=\"wandb\"><tr><td>collection/listener/reward/episode_reward_max</td><td>-16.42186</td></tr><tr><td>collection/listener/reward/episode_reward_mean</td><td>-198.93773</td></tr><tr><td>collection/listener/reward/episode_reward_min</td><td>-392.71939</td></tr><tr><td>collection/listener/reward/reward_max</td><td>-0.00632</td></tr><tr><td>collection/listener/reward/reward_mean</td><td>-1.98938</td></tr><tr><td>collection/listener/reward/reward_min</td><td>-4.7385</td></tr><tr><td>collection/reward/episode_reward_max</td><td>-16.42186</td></tr><tr><td>collection/reward/episode_reward_mean</td><td>-198.93773</td></tr><tr><td>collection/reward/episode_reward_min</td><td>-392.71939</td></tr><tr><td>collection/speaker/reward/episode_reward_max</td><td>-16.42186</td></tr><tr><td>collection/speaker/reward/episode_reward_mean</td><td>-198.93773</td></tr><tr><td>collection/speaker/reward/episode_reward_min</td><td>-392.71939</td></tr><tr><td>collection/speaker/reward/reward_max</td><td>-0.00632</td></tr><tr><td>collection/speaker/reward/reward_mean</td><td>-1.98938</td></tr><tr><td>collection/speaker/reward/reward_min</td><td>-4.7385</td></tr><tr><td>counters/current_frames</td><td>6000</td></tr><tr><td>counters/iter</td><td>0</td></tr><tr><td>counters/total_frames</td><td>6000</td></tr><tr><td>eval/listener/reward/episode_reward_max</td><td>-87.38604</td></tr><tr><td>eval/listener/reward/episode_reward_mean</td><td>-225.71775</td></tr><tr><td>eval/listener/reward/episode_reward_min</td><td>-405.75223</td></tr><tr><td>eval/reward/episode_len_mean</td><td>100.0</td></tr><tr><td>eval/reward/episode_reward_max</td><td>-87.38604</td></tr><tr><td>eval/reward/episode_reward_mean</td><td>-225.71773</td></tr><tr><td>eval/reward/episode_reward_min</td><td>-405.75223</td></tr><tr><td>eval/speaker/reward/episode_reward_max</td><td>-87.38604</td></tr><tr><td>eval/speaker/reward/episode_reward_mean</td><td>-225.71775</td></tr><tr><td>eval/speaker/reward/episode_reward_min</td><td>-405.75223</td></tr><tr><td>timers/collection_time</td><td>2.426</td></tr><tr><td>timers/evaluation_time</td><td>2.013</td></tr><tr><td>timers/iteration_time</td><td>41.77837</td></tr><tr><td>timers/total_time</td><td>41.77837</td></tr><tr><td>timers/training_time</td><td>39.35237</td></tr><tr><td>train/listener/ESS</td><td>0.9348</td></tr><tr><td>train/listener/entropy</td><td>1.21691</td></tr><tr><td>train/listener/grad_norm_loss_critic</td><td>43.76315</td></tr><tr><td>train/listener/grad_norm_loss_objective</td><td>5.61117</td></tr><tr><td>train/listener/loss_critic</td><td>56.76572</td></tr><tr><td>train/listener/loss_entropy</td><td>0.0</td></tr><tr><td>train/listener/loss_objective</td><td>9.88205</td></tr><tr><td>train/speaker/ESS</td><td>0.93104</td></tr><tr><td>train/speaker/entropy</td><td>0.64929</td></tr><tr><td>train/speaker/grad_norm_loss_critic</td><td>40.76276</td></tr><tr><td>train/speaker/grad_norm_loss_objective</td><td>7.8196</td></tr><tr><td>train/speaker/loss_critic</td><td>47.27576</td></tr><tr><td>train/speaker/loss_entropy</td><td>0.0</td></tr><tr><td>train/speaker/loss_objective</td><td>9.83854</td></tr></table><br/></div></div>"
      ],
      "text/plain": [
       "<IPython.core.display.HTML object>"
      ]
     },
     "metadata": {},
     "output_type": "display_data"
    },
    {
     "data": {
      "text/html": [
       " View run <strong style=\"color:#cdcd00\">mappo_simple_speaker_listener_mlp__bc12c35b_24_02_23-15_26_01</strong> at: <a href='https://wandb.ai/poporl/benchmarl/runs/mappo_simple_speaker_listener_mlp__bc12c35b_24_02_23-15_26_01' target=\"_blank\">https://wandb.ai/poporl/benchmarl/runs/mappo_simple_speaker_listener_mlp__bc12c35b_24_02_23-15_26_01</a><br/>Synced 5 W&B file(s), 1 media file(s), 0 artifact file(s) and 1 other file(s)"
      ],
      "text/plain": [
       "<IPython.core.display.HTML object>"
      ]
     },
     "metadata": {},
     "output_type": "display_data"
    },
    {
     "data": {
      "text/html": [
       "Find logs at: <code>experiments\\mappo_simple_speaker_listener_mlp__bc12c35b_24_02_23-15_26_01\\wandb\\run-20240223_152603-mappo_simple_speaker_listener_mlp__bc12c35b_24_02_23-15_26_01\\logs</code>"
      ],
      "text/plain": [
       "<IPython.core.display.HTML object>"
      ]
     },
     "metadata": {},
     "output_type": "display_data"
    },
    {
     "name": "stderr",
     "output_type": "stream",
     "text": [
      "mean return = -198.93772888183594: 100%|██████████| 1/1 [00:53<00:00, 53.32s/it]\n"
     ]
    }
   ],
   "source": [
    "experiment.run()"
   ]
  }
 ],
 "metadata": {
  "kernelspec": {
   "display_name": "venv",
   "language": "python",
   "name": "python3"
  },
  "language_info": {
   "codemirror_mode": {
    "name": "ipython",
    "version": 3
   },
   "file_extension": ".py",
   "mimetype": "text/x-python",
   "name": "python",
   "nbconvert_exporter": "python",
   "pygments_lexer": "ipython3",
   "version": "3.9.5"
  }
 },
 "nbformat": 4,
 "nbformat_minor": 2
}
