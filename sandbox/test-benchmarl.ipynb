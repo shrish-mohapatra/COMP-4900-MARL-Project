{
 "cells": [
  {
   "cell_type": "code",
   "execution_count": 1,
   "metadata": {},
   "outputs": [
    {
     "data": {
      "text/plain": [
       "True"
      ]
     },
     "execution_count": 1,
     "metadata": {},
     "output_type": "execute_result"
    }
   ],
   "source": [
    "import torch\n",
    "torch.cuda.is_available()"
   ]
  },
  {
   "cell_type": "code",
   "execution_count": 1,
   "metadata": {},
   "outputs": [],
   "source": [
    "from benchmarl.algorithms import MappoConfig\n",
    "from benchmarl.environments import VmasTask\n",
    "from benchmarl.experiment import Experiment, ExperimentConfig\n",
    "from benchmarl.models.mlp import MlpConfig\n",
    "\n",
    "from ComplexVmasTask import ComplexVmasTask"
   ]
  },
  {
   "cell_type": "code",
   "execution_count": 3,
   "metadata": {},
   "outputs": [
    {
     "name": "stdout",
     "output_type": "stream",
     "text": [
      "W&B enabled.\n"
     ]
    }
   ],
   "source": [
    "!wandb enabled"
   ]
  },
  {
   "cell_type": "code",
   "execution_count": null,
   "metadata": {},
   "outputs": [
    {
     "name": "stderr",
     "output_type": "stream",
     "text": [
      "c:\\Users\\Josh\\Documents\\yr4\\s2\\COMP4900_MultiAgent\\COMP-4900-MARL-Project\\venv\\Lib\\site-packages\\gym\\utils\\passive_env_checker.py:233: DeprecationWarning: `np.bool8` is a deprecated alias for `np.bool_`.  (Deprecated NumPy 1.24)\n",
      "  if not isinstance(terminated, (bool, np.bool8)):\n"
     ]
    }
   ],
   "source": [
    "import gym\n",
    "env = gym.make(\"CartPole-v1\")\n",
    "observation, info = env.reset(seed=42)\n",
    "\n",
    "for _ in range(1000):\n",
    "    action = env.action_space.sample()\n",
    "    observation, reward, terminated, truncated, info = env.step(action)\n",
    "\n",
    "    if terminated or truncated:\n",
    "        observation, info = env.reset()\n",
    "env.close()"
   ]
  },
  {
   "cell_type": "code",
   "execution_count": 4,
   "metadata": {},
   "outputs": [
    {
     "name": "stdout",
     "output_type": "stream",
     "text": [
      "ComplexVmasTask.SIMPLE_SPEAKER_LISTENER: (config={'max_steps': 100})\n",
      "DEBUGGING device=cpu\n",
      "DEBUGGING device=cpu\n"
     ]
    }
   ],
   "source": [
    "# Loads from \"benchmarl/conf/experiment/base_experiment.yaml\"\n",
    "experiment_config = ExperimentConfig.get_from_yaml()\n",
    "\n",
    "# Loads from \"benchmarl/conf/task/vmas/balance.yaml\"\n",
    "# task = VmasTask.SIMPLE_SPEAKER_LISTENER.get_from_yaml()\n",
    "task = ComplexVmasTask.SIMPLE_SPEAKER_LISTENER.get_from_yaml()\n",
    "print(task)\n",
    "\n",
    "# Loads from \"benchmarl/conf/algorithm/mappo.yaml\"\n",
    "algorithm_config = MappoConfig.get_from_yaml()\n",
    "\n",
    "# Loads from \"benchmarl/conf/model/layers/mlp.yaml\"\n",
    "model_config = MlpConfig.get_from_yaml()\n",
    "critic_model_config = MlpConfig.get_from_yaml()\n",
    "\n",
    "# THIS IS VERY IMPORTANT !!!!!!!!!!!!!!!!!!!!!!!!!!!!!\n",
    "experiment_config.on_policy_collected_frames_per_batch = 6000\n",
    "experiment_config.evaluation = True\n",
    "experiment_config.render = True\n",
    "# experiment_config.evaluation_interval = 12_000\n",
    "experiment_config.evaluation_interval = 6_000\n",
    "experiment_config.evaluation_episodes = 10\n",
    "\n",
    "experiment_config.max_n_iters = 5\n",
    "experiment_config.loggers = [\"csv\"]\n",
    "experiment_config.create_json = True\n",
    "experiment_config.save_folder = \"experiments\"\n",
    "# experiment_config.train_device = \"cuda\"\n",
    "# experiment_config.sampling_device = \"cuda\"\n",
    "\n",
    "# Create the experiment\n",
    "experiment = Experiment(\n",
    "    task=task,\n",
    "    algorithm_config=algorithm_config,\n",
    "    model_config=model_config,\n",
    "    critic_model_config=critic_model_config,\n",
    "    seed=0,\n",
    "    config=experiment_config,\n",
    ")"
   ]
  },
  {
   "cell_type": "code",
   "execution_count": 5,
   "metadata": {},
   "outputs": [
    {
     "name": "stderr",
     "output_type": "stream",
     "text": [
      "mean return = -216.00315856933594: 100%|██████████| 5/5 [04:12<00:00, 50.51s/it]\n"
     ]
    }
   ],
   "source": [
    "experiment.run()"
   ]
  },
  {
   "cell_type": "markdown",
   "metadata": {},
   "source": [
    "# clean approach this time"
   ]
  },
  {
   "cell_type": "code",
   "execution_count": 1,
   "metadata": {},
   "outputs": [
    {
     "name": "stdout",
     "output_type": "stream",
     "text": [
      "d:\\Work\\Carleton\\Winter 2024\\COMP 4900\\project\\venv\\lib\\site-packages\\benchmarl\\conf\\task\\vmas\\simple_speaker_listener.yaml\n",
      "ComplexVmasTask.SIMPLE_SPEAKER_LISTENER: (config={'max_steps': 100})\n",
      "DEBUGGING cpu\n",
      "DEBUGGING reached env_make_world\n",
      "DEBUGGING cpu\n",
      "DEBUGGING reached env_make_world\n",
      "mappo_simple_speaker_listener_mlp__abd3c2c2_24_03_14-18_34_53\n"
     ]
    },
    {
     "name": "stderr",
     "output_type": "stream",
     "text": [
      "  0%|          | 0/1 [00:00<?, ?it/s]d:\\Work\\Carleton\\Winter 2024\\COMP 4900\\project\\venv\\lib\\site-packages\\pyglet\\image\\codecs\\wic.py:406: UserWarning: [WinError -2147417850] Cannot change thread mode after it is set\n",
      "  warnings.warn(str(err))\n",
      "mean return = -321.00897216796875: 100%|██████████| 1/1 [00:45<00:00, 45.89s/it]\n"
     ]
    }
   ],
   "source": [
    "from benchmarl.algorithms import MappoConfig, MaddpgConfig\n",
    "from benchmarl.environments import VmasTask\n",
    "from benchmarl.experiment import Experiment, ExperimentConfig\n",
    "from benchmarl.models.mlp import MlpConfig\n",
    "from ComplexVmasTask import ComplexVmasTask\n",
    "\n",
    "# Loads from \"benchmarl/conf/experiment/base_experiment.yaml\"\n",
    "experiment_config = ExperimentConfig.get_from_yaml()\n",
    "\n",
    "# Loads from \"benchmarl/conf/task/vmas/balance.yaml\"\n",
    "# task = VmasTask.SIMPLE_SPEAKER_LISTENER.get_from_yaml()\n",
    "task = ComplexVmasTask.SIMPLE_SPEAKER_LISTENER.get_from_yaml()\n",
    "print(task)\n",
    "\n",
    "# Loads from \"benchmarl/conf/algorithm/mappo.yaml\"\n",
    "algorithm_config = MappoConfig.get_from_yaml()\n",
    "# algorithm_config = MaddpgConfig.get_from_yaml()\n",
    "\n",
    "# Loads from \"benchmarl/conf/model/layers/mlp.yaml\"\n",
    "model_config = MlpConfig.get_from_yaml()\n",
    "critic_model_config = MlpConfig.get_from_yaml()\n",
    "\n",
    "# THIS IS VERY IMPORTANT !!!!!!!!!!!!!!!!!!!!!!!!!!!!!\n",
    "experiment_config.on_policy_collected_frames_per_batch = 6000\n",
    "experiment_config.evaluation = True\n",
    "experiment_config.render = True\n",
    "# experiment_config.evaluation_interval = 12_000\n",
    "experiment_config.evaluation_interval = 6_000\n",
    "experiment_config.evaluation_episodes = 10\n",
    "\n",
    "experiment_config.max_n_iters = 1\n",
    "experiment_config.loggers = [\"csv\"]\n",
    "experiment_config.create_json = True\n",
    "experiment_config.save_folder = \"experiments2\"\n",
    "\n",
    "# Create the experiment\n",
    "experiment = Experiment(\n",
    "    task=task,\n",
    "    algorithm_config=algorithm_config,\n",
    "    model_config=model_config,\n",
    "    critic_model_config=critic_model_config,\n",
    "    seed=0,\n",
    "    config=experiment_config,\n",
    ")\n",
    "\n",
    "# Log experiment folder path\n",
    "print(experiment.name)\n",
    "\n",
    "# Run experiment\n",
    "experiment.run()"
   ]
  },
  {
   "cell_type": "code",
   "execution_count": 2,
   "metadata": {},
   "outputs": [
    {
     "name": "stdout",
     "output_type": "stream",
     "text": [
      "experiments2/mappo_simple_speaker_listener_mlp__abd3c2c2_24_03_14-18_34_53/mappo_simple_speaker_listener_mlp__abd3c2c2_24_03_14-18_34_53/videos\n"
     ]
    }
   ],
   "source": [
    "# Convert pt files to gifs\n",
    "video_file_path = f'{experiment_config.save_folder}/{experiment.name}/{experiment.name}/videos'\n",
    "print(video_file_path)"
   ]
  },
  {
   "cell_type": "code",
   "execution_count": 6,
   "metadata": {},
   "outputs": [
    {
     "name": "stderr",
     "output_type": "stream",
     "text": [
      "C:\\Users\\smohapatra\\AppData\\Local\\Temp\\ipykernel_26616\\2992044582.py:27: DeprecationWarning: Starting with ImageIO v3 the behavior of this function will switch to that of iio.v3.imread. To keep the current behavior (and make this warning disappear) use `import imageio.v2 as imageio` or call `imageio.v2.imread` directly.\n",
      "  images.append(imageio.imread(f'./frames/frame_{i}.png'))\n"
     ]
    }
   ],
   "source": [
    "import torch\n",
    "import imageio\n",
    "import os\n",
    "import shutil\n",
    "\n",
    "def convert_pt_to_gif(folder_path: str):\n",
    "    \"\"\"\n",
    "    Convert .pt files within specified folder_path into gifs\n",
    "    \"\"\"\n",
    "    num_videos = 1\n",
    "\n",
    "    for i in range(num_videos):\n",
    "        VID_NAME = f'{folder_path}/eval_video_{i}'\n",
    "\n",
    "        folder = 'frames'\n",
    "        os.makedirs(folder, exist_ok=True)\n",
    "\n",
    "        tensor = torch.load(f'./{VID_NAME}.pt')\n",
    "        frames = tensor.shape[1]\n",
    "\n",
    "        for i in range(frames):\n",
    "            frame = tensor[0, i].permute(1, 2, 0).numpy().astype('uint8')\n",
    "            imageio.imwrite(f'./frames/frame_{i}.png', frame)\n",
    "\n",
    "        images = []\n",
    "        for i in range(frames):\n",
    "            images.append(imageio.imread(f'./frames/frame_{i}.png'))\n",
    "\n",
    "        imageio.mimsave(f'{VID_NAME}.gif', images, fps=100)\n",
    "        shutil.rmtree(folder)\n",
    "\n",
    "\n",
    "convert_pt_to_gif(video_file_path)"
   ]
  },
  {
   "cell_type": "code",
   "execution_count": null,
   "metadata": {},
   "outputs": [],
   "source": []
  }
 ],
 "metadata": {
  "kernelspec": {
   "display_name": "venv",
   "language": "python",
   "name": "python3"
  },
  "language_info": {
   "codemirror_mode": {
    "name": "ipython",
    "version": 3
   },
   "file_extension": ".py",
   "mimetype": "text/x-python",
   "name": "python",
   "nbconvert_exporter": "python",
   "pygments_lexer": "ipython3",
   "version": "3.9.5"
  }
 },
 "nbformat": 4,
 "nbformat_minor": 2
}
