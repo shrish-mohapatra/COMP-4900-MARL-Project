{
 "cells": [
  {
   "cell_type": "code",
   "execution_count": 1,
   "metadata": {},
   "outputs": [
    {
     "name": "stderr",
     "output_type": "stream",
     "text": [
      "d:\\Work\\Carleton\\Winter 2024\\COMP 4900\\project\\venv\\lib\\site-packages\\torchrl\\data\\replay_buffers\\samplers.py:23: UserWarning: Failed to import torchrl C++ binaries. Some modules (eg, prioritized replay buffers) may not work with your installation. If you installed TorchRL from PyPI, please report the bug on TorchRL github. If you installed TorchRL locally and/or in development mode, check that you have all the required compiling packages.\n",
      "  warnings.warn(EXTENSION_WARNING)\n"
     ]
    }
   ],
   "source": [
    "from benchmarl.algorithms import MappoConfig\n",
    "from benchmarl.environments import VmasTask\n",
    "from benchmarl.experiment import Experiment, ExperimentConfig\n",
    "from benchmarl.models.mlp import MlpConfig"
   ]
  },
  {
   "cell_type": "code",
   "execution_count": 2,
   "metadata": {},
   "outputs": [
    {
     "name": "stderr",
     "output_type": "stream",
     "text": [
      "wandb: Currently logged in as: shrish-mohapatra (poporl). Use `wandb login --relogin` to force relogin\n"
     ]
    }
   ],
   "source": [
    "!wandb login"
   ]
  },
  {
   "cell_type": "code",
   "execution_count": 3,
   "metadata": {},
   "outputs": [
    {
     "name": "stderr",
     "output_type": "stream",
     "text": [
      "Failed to detect the name of this notebook, you can set it manually with the WANDB_NOTEBOOK_NAME environment variable to enable code saving.\n",
      "\u001b[34m\u001b[1mwandb\u001b[0m: Currently logged in as: \u001b[33mshrish-mohapatra\u001b[0m (\u001b[33mpoporl\u001b[0m). Use \u001b[1m`wandb login --relogin`\u001b[0m to force relogin\n"
     ]
    },
    {
     "data": {
      "text/html": [
       "Tracking run with wandb version 0.16.3"
      ],
      "text/plain": [
       "<IPython.core.display.HTML object>"
      ]
     },
     "metadata": {},
     "output_type": "display_data"
    },
    {
     "data": {
      "text/html": [
       "Run data is saved locally in <code>d:\\Work\\Carleton\\Winter 2024\\COMP 4900\\project\\sandbox\\wandb\\run-20240220_145407-mgkvhptb</code>"
      ],
      "text/plain": [
       "<IPython.core.display.HTML object>"
      ]
     },
     "metadata": {},
     "output_type": "display_data"
    },
    {
     "data": {
      "text/html": [
       "Syncing run <strong><a href='https://wandb.ai/poporl/poporl/runs/mgkvhptb' target=\"_blank\">floating-moon-5</a></strong> to <a href='https://wandb.ai/poporl/poporl' target=\"_blank\">Weights & Biases</a> (<a href='https://wandb.me/run' target=\"_blank\">docs</a>)<br/>"
      ],
      "text/plain": [
       "<IPython.core.display.HTML object>"
      ]
     },
     "metadata": {},
     "output_type": "display_data"
    },
    {
     "data": {
      "text/html": [
       " View project at <a href='https://wandb.ai/poporl/poporl' target=\"_blank\">https://wandb.ai/poporl/poporl</a>"
      ],
      "text/plain": [
       "<IPython.core.display.HTML object>"
      ]
     },
     "metadata": {},
     "output_type": "display_data"
    },
    {
     "data": {
      "text/html": [
       " View run at <a href='https://wandb.ai/poporl/poporl/runs/mgkvhptb' target=\"_blank\">https://wandb.ai/poporl/poporl/runs/mgkvhptb</a>"
      ],
      "text/plain": [
       "<IPython.core.display.HTML object>"
      ]
     },
     "metadata": {},
     "output_type": "display_data"
    },
    {
     "data": {
      "text/html": [
       "<button onClick=\"this.nextSibling.style.display='block';this.style.display='none';\">Display W&B run</button><iframe src='https://wandb.ai/poporl/poporl/runs/mgkvhptb?jupyter=true' style='border:none;width:100%;height:420px;display:none;'></iframe>"
      ],
      "text/plain": [
       "<wandb.sdk.wandb_run.Run at 0x237b3665eb0>"
      ]
     },
     "execution_count": 3,
     "metadata": {},
     "output_type": "execute_result"
    }
   ],
   "source": [
    "import wandb\n",
    "\n",
    "wandb.init(\n",
    "    # set the wandb project where this run will be logged\n",
    "    project=\"poporl\",\n",
    "    \n",
    "    # track hyperparameters and run metadata\n",
    "    config={\n",
    "      \"algorithm\": \"MAPPBIASDGUASDG\",\n",
    "      \"runtime\": \"benchmarl\",\n",
    "    }\n",
    ")"
   ]
  },
  {
   "cell_type": "code",
   "execution_count": 7,
   "metadata": {},
   "outputs": [
    {
     "name": "stdout",
     "output_type": "stream",
     "text": [
      "VmasTask.BALANCE: (config={'max_steps': 100, 'n_agents': 4, 'random_package_pos_on_line': True, 'package_mass': 5})\n",
      "!DEBUG creating experiment\n"
     ]
    },
    {
     "data": {
      "text/html": [
       "Tracking run with wandb version 0.16.3"
      ],
      "text/plain": [
       "<IPython.core.display.HTML object>"
      ]
     },
     "metadata": {},
     "output_type": "display_data"
    },
    {
     "data": {
      "text/html": [
       "Run data is saved locally in <code>d:\\Work\\Carleton\\Winter 2024\\COMP 4900\\project\\sandbox\\mappo_balance_mlp__d1733ecd_24_02_20-15_53_55\\wandb\\run-20240220_155355-mappo_balance_mlp__d1733ecd_24_02_20-15_53_55</code>"
      ],
      "text/plain": [
       "<IPython.core.display.HTML object>"
      ]
     },
     "metadata": {},
     "output_type": "display_data"
    },
    {
     "data": {
      "text/html": [
       "Syncing run <strong><a href='https://wandb.ai/poporl/benchmarl/runs/mappo_balance_mlp__d1733ecd_24_02_20-15_53_55' target=\"_blank\">mappo_balance_mlp__d1733ecd_24_02_20-15_53_55</a></strong> to <a href='https://wandb.ai/poporl/benchmarl' target=\"_blank\">Weights & Biases</a> (<a href='https://wandb.me/run' target=\"_blank\">docs</a>)<br/>"
      ],
      "text/plain": [
       "<IPython.core.display.HTML object>"
      ]
     },
     "metadata": {},
     "output_type": "display_data"
    },
    {
     "data": {
      "text/html": [
       " View project at <a href='https://wandb.ai/poporl/benchmarl' target=\"_blank\">https://wandb.ai/poporl/benchmarl</a>"
      ],
      "text/plain": [
       "<IPython.core.display.HTML object>"
      ]
     },
     "metadata": {},
     "output_type": "display_data"
    },
    {
     "data": {
      "text/html": [
       " View run at <a href='https://wandb.ai/poporl/benchmarl/runs/mappo_balance_mlp__d1733ecd_24_02_20-15_53_55' target=\"_blank\">https://wandb.ai/poporl/benchmarl/runs/mappo_balance_mlp__d1733ecd_24_02_20-15_53_55</a>"
      ],
      "text/plain": [
       "<IPython.core.display.HTML object>"
      ]
     },
     "metadata": {},
     "output_type": "display_data"
    }
   ],
   "source": [
    "# Loads from \"benchmarl/conf/experiment/base_experiment.yaml\"\n",
    "experiment_config = ExperimentConfig.get_from_yaml()\n",
    "\n",
    "# Loads from \"benchmarl/conf/task/vmas/balance.yaml\"\n",
    "task = VmasTask.BALANCE.get_from_yaml()\n",
    "print(task)\n",
    "\n",
    "# Loads from \"benchmarl/conf/algorithm/mappo.yaml\"\n",
    "algorithm_config = MappoConfig.get_from_yaml()\n",
    "\n",
    "# Loads from \"benchmarl/conf/model/layers/mlp.yaml\"\n",
    "model_config = MlpConfig.get_from_yaml()\n",
    "critic_model_config = MlpConfig.get_from_yaml()\n",
    "\n",
    "# THIS IS VERY IMPORTANT !!!!!!!!!!!!!!!!!!!!!!!!!!!!!\n",
    "experiment_config.on_policy_collected_frames_per_batch = 6000\n",
    "experiment_config.evaluation = True\n",
    "experiment_config.render = True\n",
    "# experiment_config.evaluation_interval = 12_000\n",
    "experiment_config.evaluation_interval = 6_000\n",
    "experiment_config.evaluation_episodes = 10\n",
    "\n",
    "experiment_config.max_n_iters = 2\n",
    "experiment_config.loggers = [\"wandb\"]\n",
    "experiment_config.create_json = True\n",
    "experiment_config.save_folder = \"experiments\"\n",
    "\n",
    "# Create the experiment\n",
    "experiment = Experiment(\n",
    "    task=task,\n",
    "    algorithm_config=algorithm_config,\n",
    "    model_config=model_config,\n",
    "    critic_model_config=critic_model_config,\n",
    "    seed=0,\n",
    "    config=experiment_config,\n",
    ")"
   ]
  },
  {
   "cell_type": "code",
   "execution_count": 8,
   "metadata": {},
   "outputs": [
    {
     "name": "stdout",
     "output_type": "stream",
     "text": [
      "!DEBUG collection loop\n"
     ]
    },
    {
     "name": "stderr",
     "output_type": "stream",
     "text": [
      "  0%|          | 0/2 [00:00<?, ?it/s]"
     ]
    },
    {
     "name": "stdout",
     "output_type": "stream",
     "text": [
      "!collector batch\n",
      "!collector groups\n",
      "!DEBUG collector evaluation conditons\n",
      "self.config.evaluation True\n",
      "(self.total_frames % self.config.evaluation_interval == 0) True\n",
      "(len(self.config.loggers) or self.config.create_json) 1\n",
      "hahahehe eval loop\n",
      "hahahehe rendering now\n"
     ]
    },
    {
     "name": "stderr",
     "output_type": "stream",
     "text": [
      "mean return = -5.014937877655029:  50%|█████     | 1/2 [00:25<00:25, 25.77s/it]"
     ]
    },
    {
     "name": "stdout",
     "output_type": "stream",
     "text": [
      "!DEBUG post collector evaluation\n",
      "!collector batch\n",
      "!collector groups\n",
      "!DEBUG collector evaluation conditons\n",
      "self.config.evaluation True\n",
      "(self.total_frames % self.config.evaluation_interval == 0) True\n",
      "(len(self.config.loggers) or self.config.create_json) 1\n",
      "hahahehe eval loop\n",
      "hahahehe rendering now\n"
     ]
    },
    {
     "name": "stderr",
     "output_type": "stream",
     "text": [
      "mean return = -4.662830829620361: 100%|██████████| 2/2 [00:51<00:00, 25.56s/it]"
     ]
    },
    {
     "name": "stdout",
     "output_type": "stream",
     "text": [
      "!DEBUG post collector evaluation\n"
     ]
    },
    {
     "data": {
      "text/html": [
       "<style>\n",
       "    table.wandb td:nth-child(1) { padding: 0 10px; text-align: left ; width: auto;} td:nth-child(2) {text-align: left ; width: 100%}\n",
       "    .wandb-row { display: flex; flex-direction: row; flex-wrap: wrap; justify-content: flex-start; width: 100% }\n",
       "    .wandb-col { display: flex; flex-direction: column; flex-basis: 100%; flex: 1; padding: 10px; }\n",
       "    </style>\n",
       "<div class=\"wandb-row\"><div class=\"wandb-col\"><h3>Run history:</h3><br/><table class=\"wandb\"><tr><td>collection/agents/info/ground_rew</td><td>▁▁</td></tr><tr><td>collection/agents/info/pos_rew</td><td>▁█</td></tr><tr><td>collection/agents/reward/episode_reward_max</td><td>▁█</td></tr><tr><td>collection/agents/reward/episode_reward_mean</td><td>▁█</td></tr><tr><td>collection/agents/reward/episode_reward_min</td><td>█▁</td></tr><tr><td>collection/agents/reward/reward_max</td><td>█▁</td></tr><tr><td>collection/agents/reward/reward_mean</td><td>▁█</td></tr><tr><td>collection/agents/reward/reward_min</td><td>█▁</td></tr><tr><td>collection/reward/episode_reward_max</td><td>▁█</td></tr><tr><td>collection/reward/episode_reward_mean</td><td>▁█</td></tr><tr><td>collection/reward/episode_reward_min</td><td>█▁</td></tr><tr><td>counters/current_frames</td><td>▁▁</td></tr><tr><td>counters/iter</td><td>▁█</td></tr><tr><td>counters/total_frames</td><td>▁█</td></tr><tr><td>eval/agents/reward/episode_reward_max</td><td>▁█</td></tr><tr><td>eval/agents/reward/episode_reward_mean</td><td>▁█</td></tr><tr><td>eval/agents/reward/episode_reward_min</td><td>█▁</td></tr><tr><td>eval/reward/episode_len_mean</td><td>▁█</td></tr><tr><td>eval/reward/episode_reward_max</td><td>▁█</td></tr><tr><td>eval/reward/episode_reward_mean</td><td>▁█</td></tr><tr><td>eval/reward/episode_reward_min</td><td>█▁</td></tr><tr><td>timers/collection_time</td><td>█▁</td></tr><tr><td>timers/evaluation_time</td><td>█▁</td></tr><tr><td>timers/iteration_time</td><td>█▁</td></tr><tr><td>timers/total_time</td><td>▁█</td></tr><tr><td>timers/training_time</td><td>▁█</td></tr><tr><td>train/agents/ESS</td><td>▁█</td></tr><tr><td>train/agents/entropy</td><td>▁█</td></tr><tr><td>train/agents/grad_norm_loss_critic</td><td>▁█</td></tr><tr><td>train/agents/grad_norm_loss_objective</td><td>█▁</td></tr><tr><td>train/agents/loss_critic</td><td>█▁</td></tr><tr><td>train/agents/loss_entropy</td><td>▁▁</td></tr><tr><td>train/agents/loss_objective</td><td>█▁</td></tr></table><br/></div><div class=\"wandb-col\"><h3>Run summary:</h3><br/><table class=\"wandb\"><tr><td>collection/agents/info/ground_rew</td><td>-0.03</td></tr><tr><td>collection/agents/info/pos_rew</td><td>-0.02103</td></tr><tr><td>collection/agents/reward/episode_reward_max</td><td>0.62016</td></tr><tr><td>collection/agents/reward/episode_reward_mean</td><td>-4.66283</td></tr><tr><td>collection/agents/reward/episode_reward_min</td><td>-15.9597</td></tr><tr><td>collection/agents/reward/reward_max</td><td>0.33243</td></tr><tr><td>collection/agents/reward/reward_mean</td><td>-0.05103</td></tr><tr><td>collection/agents/reward/reward_min</td><td>-10.19696</td></tr><tr><td>collection/reward/episode_reward_max</td><td>0.62016</td></tr><tr><td>collection/reward/episode_reward_mean</td><td>-4.66283</td></tr><tr><td>collection/reward/episode_reward_min</td><td>-15.9597</td></tr><tr><td>counters/current_frames</td><td>6000</td></tr><tr><td>counters/iter</td><td>1</td></tr><tr><td>counters/total_frames</td><td>12000</td></tr><tr><td>eval/agents/reward/episode_reward_max</td><td>-1.22264</td></tr><tr><td>eval/agents/reward/episode_reward_mean</td><td>-3.33081</td></tr><tr><td>eval/agents/reward/episode_reward_min</td><td>-15.58781</td></tr><tr><td>eval/reward/episode_len_mean</td><td>98.2</td></tr><tr><td>eval/reward/episode_reward_max</td><td>-1.22264</td></tr><tr><td>eval/reward/episode_reward_mean</td><td>-3.33081</td></tr><tr><td>eval/reward/episode_reward_min</td><td>-15.58781</td></tr><tr><td>timers/collection_time</td><td>7.765</td></tr><tr><td>timers/evaluation_time</td><td>3.1</td></tr><tr><td>timers/iteration_time</td><td>21.5777</td></tr><tr><td>timers/total_time</td><td>43.25907</td></tr><tr><td>timers/training_time</td><td>13.8127</td></tr><tr><td>train/agents/ESS</td><td>0.99024</td></tr><tr><td>train/agents/entropy</td><td>1.26405</td></tr><tr><td>train/agents/grad_norm_loss_critic</td><td>0.9478</td></tr><tr><td>train/agents/grad_norm_loss_objective</td><td>0.18885</td></tr><tr><td>train/agents/loss_critic</td><td>0.81299</td></tr><tr><td>train/agents/loss_entropy</td><td>0.0</td></tr><tr><td>train/agents/loss_objective</td><td>0.13557</td></tr></table><br/></div></div>"
      ],
      "text/plain": [
       "<IPython.core.display.HTML object>"
      ]
     },
     "metadata": {},
     "output_type": "display_data"
    },
    {
     "data": {
      "text/html": [
       " View run <strong style=\"color:#cdcd00\">mappo_balance_mlp__d1733ecd_24_02_20-15_53_55</strong> at: <a href='https://wandb.ai/poporl/benchmarl/runs/mappo_balance_mlp__d1733ecd_24_02_20-15_53_55' target=\"_blank\">https://wandb.ai/poporl/benchmarl/runs/mappo_balance_mlp__d1733ecd_24_02_20-15_53_55</a><br/>Synced 5 W&B file(s), 2 media file(s), 0 artifact file(s) and 0 other file(s)"
      ],
      "text/plain": [
       "<IPython.core.display.HTML object>"
      ]
     },
     "metadata": {},
     "output_type": "display_data"
    },
    {
     "data": {
      "text/html": [
       "Find logs at: <code>.\\mappo_balance_mlp__d1733ecd_24_02_20-15_53_55\\wandb\\run-20240220_155355-mappo_balance_mlp__d1733ecd_24_02_20-15_53_55\\logs</code>"
      ],
      "text/plain": [
       "<IPython.core.display.HTML object>"
      ]
     },
     "metadata": {},
     "output_type": "display_data"
    },
    {
     "name": "stderr",
     "output_type": "stream",
     "text": [
      "mean return = -4.662830829620361: 100%|██████████| 2/2 [00:54<00:00, 27.41s/it]\n"
     ]
    }
   ],
   "source": [
    "experiment.run()"
   ]
  },
  {
   "cell_type": "code",
   "execution_count": 4,
   "metadata": {},
   "outputs": [
    {
     "name": "stdout",
     "output_type": "stream",
     "text": [
      "12000\n"
     ]
    }
   ],
   "source": [
    "print(experiment.total_frames, experiment.config.evaluation_interval )"
   ]
  },
  {
   "cell_type": "code",
   "execution_count": 12,
   "metadata": {},
   "outputs": [
    {
     "ename": "FileNotFoundError",
     "evalue": "[Errno 2] No such file or directory: 'wideo.mp4'",
     "output_type": "error",
     "traceback": [
      "\u001b[1;31m---------------------------------------------------------------------------\u001b[0m",
      "\u001b[1;31mFileNotFoundError\u001b[0m                         Traceback (most recent call last)",
      "Cell \u001b[1;32mIn[12], line 1\u001b[0m\n\u001b[1;32m----> 1\u001b[0m \u001b[43mwandb\u001b[49m\u001b[38;5;241;43m.\u001b[39;49m\u001b[43mVideo\u001b[49m\u001b[43m(\u001b[49m\u001b[38;5;124;43m\"\u001b[39;49m\u001b[38;5;124;43mwideo.mp4\u001b[39;49m\u001b[38;5;124;43m\"\u001b[39;49m\u001b[43m)\u001b[49m\n",
      "File \u001b[1;32md:\\Work\\Carleton\\Winter 2024\\COMP 4900\\project\\venv\\lib\\site-packages\\wandb\\sdk\\data_types\\video.py:115\u001b[0m, in \u001b[0;36mVideo.__init__\u001b[1;34m(self, data_or_path, caption, fps, format)\u001b[0m\n\u001b[0;32m    111\u001b[0m     \u001b[38;5;28;01mif\u001b[39;00m ext \u001b[38;5;129;01mnot\u001b[39;00m \u001b[38;5;129;01min\u001b[39;00m Video\u001b[38;5;241m.\u001b[39mEXTS:\n\u001b[0;32m    112\u001b[0m         \u001b[38;5;28;01mraise\u001b[39;00m \u001b[38;5;167;01mValueError\u001b[39;00m(\n\u001b[0;32m    113\u001b[0m             \u001b[38;5;124m\"\u001b[39m\u001b[38;5;124mwandb.Video accepts \u001b[39m\u001b[38;5;132;01m%s\u001b[39;00m\u001b[38;5;124m formats\u001b[39m\u001b[38;5;124m\"\u001b[39m \u001b[38;5;241m%\u001b[39m \u001b[38;5;124m\"\u001b[39m\u001b[38;5;124m, \u001b[39m\u001b[38;5;124m\"\u001b[39m\u001b[38;5;241m.\u001b[39mjoin(Video\u001b[38;5;241m.\u001b[39mEXTS)\n\u001b[0;32m    114\u001b[0m         )\n\u001b[1;32m--> 115\u001b[0m     \u001b[38;5;28;43mself\u001b[39;49m\u001b[38;5;241;43m.\u001b[39;49m\u001b[43m_set_file\u001b[49m\u001b[43m(\u001b[49m\u001b[43mdata_or_path\u001b[49m\u001b[43m,\u001b[49m\u001b[43m \u001b[49m\u001b[43mis_tmp\u001b[49m\u001b[38;5;241;43m=\u001b[39;49m\u001b[38;5;28;43;01mFalse\u001b[39;49;00m\u001b[43m)\u001b[49m\n\u001b[0;32m    116\u001b[0m     \u001b[38;5;66;03m# ffprobe -v error -select_streams v:0 -show_entries stream=width,height -of csv=p=0 data_or_path\u001b[39;00m\n\u001b[0;32m    117\u001b[0m \u001b[38;5;28;01melse\u001b[39;00m:\n\u001b[0;32m    118\u001b[0m     \u001b[38;5;28;01mif\u001b[39;00m \u001b[38;5;28mhasattr\u001b[39m(data_or_path, \u001b[38;5;124m\"\u001b[39m\u001b[38;5;124mnumpy\u001b[39m\u001b[38;5;124m\"\u001b[39m):  \u001b[38;5;66;03m# TF data eager tensors\u001b[39;00m\n",
      "File \u001b[1;32md:\\Work\\Carleton\\Winter 2024\\COMP 4900\\project\\venv\\lib\\site-packages\\wandb\\sdk\\data_types\\base_types\\media.py:65\u001b[0m, in \u001b[0;36mMedia._set_file\u001b[1;34m(self, path, is_tmp, extension)\u001b[0m\n\u001b[0;32m     60\u001b[0m \u001b[38;5;28mself\u001b[39m\u001b[38;5;241m.\u001b[39m_extension \u001b[38;5;241m=\u001b[39m extension\n\u001b[0;32m     61\u001b[0m \u001b[38;5;28;01massert\u001b[39;00m extension \u001b[38;5;129;01mis\u001b[39;00m \u001b[38;5;28;01mNone\u001b[39;00m \u001b[38;5;129;01mor\u001b[39;00m path\u001b[38;5;241m.\u001b[39mendswith(\n\u001b[0;32m     62\u001b[0m     extension\n\u001b[0;32m     63\u001b[0m ), \u001b[38;5;124mf\u001b[39m\u001b[38;5;124m'\u001b[39m\u001b[38;5;124mMedia file extension \u001b[39m\u001b[38;5;124m\"\u001b[39m\u001b[38;5;132;01m{\u001b[39;00mextension\u001b[38;5;132;01m}\u001b[39;00m\u001b[38;5;124m\"\u001b[39m\u001b[38;5;124m must occur at the end of path \u001b[39m\u001b[38;5;124m\"\u001b[39m\u001b[38;5;132;01m{\u001b[39;00mpath\u001b[38;5;132;01m}\u001b[39;00m\u001b[38;5;124m\"\u001b[39m\u001b[38;5;124m.\u001b[39m\u001b[38;5;124m'\u001b[39m\n\u001b[1;32m---> 65\u001b[0m \u001b[38;5;28;01mwith\u001b[39;00m \u001b[38;5;28;43mopen\u001b[39;49m\u001b[43m(\u001b[49m\u001b[38;5;28;43mself\u001b[39;49m\u001b[38;5;241;43m.\u001b[39;49m\u001b[43m_path\u001b[49m\u001b[43m,\u001b[49m\u001b[43m \u001b[49m\u001b[38;5;124;43m\"\u001b[39;49m\u001b[38;5;124;43mrb\u001b[39;49m\u001b[38;5;124;43m\"\u001b[39;49m\u001b[43m)\u001b[49m \u001b[38;5;28;01mas\u001b[39;00m f:\n\u001b[0;32m     66\u001b[0m     \u001b[38;5;28mself\u001b[39m\u001b[38;5;241m.\u001b[39m_sha256 \u001b[38;5;241m=\u001b[39m hashlib\u001b[38;5;241m.\u001b[39msha256(f\u001b[38;5;241m.\u001b[39mread())\u001b[38;5;241m.\u001b[39mhexdigest()\n\u001b[0;32m     67\u001b[0m \u001b[38;5;28mself\u001b[39m\u001b[38;5;241m.\u001b[39m_size \u001b[38;5;241m=\u001b[39m os\u001b[38;5;241m.\u001b[39mpath\u001b[38;5;241m.\u001b[39mgetsize(\u001b[38;5;28mself\u001b[39m\u001b[38;5;241m.\u001b[39m_path)\n",
      "\u001b[1;31mFileNotFoundError\u001b[0m: [Errno 2] No such file or directory: 'wideo.mp4'"
     ]
    }
   ],
   "source": [
    "wandb.Video(\"wideo.mp4\")"
   ]
  }
 ],
 "metadata": {
  "kernelspec": {
   "display_name": "venv",
   "language": "python",
   "name": "python3"
  },
  "language_info": {
   "codemirror_mode": {
    "name": "ipython",
    "version": 3
   },
   "file_extension": ".py",
   "mimetype": "text/x-python",
   "name": "python",
   "nbconvert_exporter": "python",
   "pygments_lexer": "ipython3",
   "version": "3.9.5"
  }
 },
 "nbformat": 4,
 "nbformat_minor": 2
}
