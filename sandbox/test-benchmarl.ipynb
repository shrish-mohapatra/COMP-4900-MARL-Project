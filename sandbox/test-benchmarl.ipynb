{
 "cells": [
  {
   "cell_type": "code",
   "execution_count": 1,
   "metadata": {},
   "outputs": [
    {
     "name": "stderr",
     "output_type": "stream",
     "text": [
      "d:\\Work\\Carleton\\Winter 2024\\COMP 4900\\project\\venv\\lib\\site-packages\\torchrl\\data\\replay_buffers\\samplers.py:23: UserWarning: Failed to import torchrl C++ binaries. Some modules (eg, prioritized replay buffers) may not work with your installation. If you installed TorchRL from PyPI, please report the bug on TorchRL github. If you installed TorchRL locally and/or in development mode, check that you have all the required compiling packages.\n",
      "  warnings.warn(EXTENSION_WARNING)\n"
     ]
    }
   ],
   "source": [
    "from benchmarl.algorithms import MappoConfig\n",
    "from benchmarl.environments import VmasTask\n",
    "from benchmarl.experiment import Experiment, ExperimentConfig\n",
    "from benchmarl.models.mlp import MlpConfig"
   ]
  },
  {
   "cell_type": "code",
   "execution_count": 2,
   "metadata": {},
   "outputs": [
    {
     "name": "stdout",
     "output_type": "stream",
     "text": [
      "self.log_dir: d:\\Work\\Carleton\\Winter 2024\\COMP 4900\\project\\sandbox\\mappo_balance_mlp__1fb57d52_24_01_31-12_51_54\\mappo_balance_mlp__1fb57d52_24_01_31-12_51_54\n"
     ]
    }
   ],
   "source": [
    "# Loads from \"benchmarl/conf/experiment/base_experiment.yaml\"\n",
    "experiment_config = ExperimentConfig.get_from_yaml()\n",
    "\n",
    "# Loads from \"benchmarl/conf/task/vmas/balance.yaml\"\n",
    "task = VmasTask.BALANCE.get_from_yaml()\n",
    "\n",
    "# Loads from \"benchmarl/conf/algorithm/mappo.yaml\"\n",
    "algorithm_config = MappoConfig.get_from_yaml()\n",
    "\n",
    "# Loads from \"benchmarl/conf/model/layers/mlp.yaml\"\n",
    "model_config = MlpConfig.get_from_yaml()\n",
    "critic_model_config = MlpConfig.get_from_yaml()\n",
    "\n",
    "experiment_config.max_n_iters = 2\n",
    "experiment_config.render = True\n",
    "experiment_config.loggers = [\"csv\"]\n",
    "\n",
    "# Create the experiment\n",
    "experiment = Experiment(\n",
    "    task=task,\n",
    "    algorithm_config=algorithm_config,\n",
    "    model_config=model_config,\n",
    "    critic_model_config=critic_model_config,\n",
    "    seed=0,\n",
    "    config=experiment_config,\n",
    ")"
   ]
  },
  {
   "cell_type": "code",
   "execution_count": 3,
   "metadata": {},
   "outputs": [
    {
     "name": "stderr",
     "output_type": "stream",
     "text": [
      "mean return = -5.480337142944336: 100%|██████████| 2/2 [00:39<00:00, 19.64s/it]\n"
     ]
    }
   ],
   "source": [
    "experiment.run()"
   ]
  }
 ],
 "metadata": {
  "kernelspec": {
   "display_name": "venv",
   "language": "python",
   "name": "python3"
  },
  "language_info": {
   "codemirror_mode": {
    "name": "ipython",
    "version": 3
   },
   "file_extension": ".py",
   "mimetype": "text/x-python",
   "name": "python",
   "nbconvert_exporter": "python",
   "pygments_lexer": "ipython3",
   "version": "3.9.5"
  }
 },
 "nbformat": 4,
 "nbformat_minor": 2
}
